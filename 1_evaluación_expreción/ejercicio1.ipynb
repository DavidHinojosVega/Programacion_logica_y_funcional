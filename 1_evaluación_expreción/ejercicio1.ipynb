{
 "cells": [
  {
   "cell_type": "markdown",
   "id": "b6fe2eea",
   "metadata": {},
   "source": [
    "# Ejercicio 1\n",
    "Ejercicio 1 de evaluación de expresiones en Python\n",
    "\n",
    "$\\frac {\\pi ^ 2}{6} = .\\sum_{n=1}^{\\infty} \\frac{1}{n ^ 2} $"
   ]
  },
  {
   "cell_type": "code",
   "execution_count": 2,
   "id": "7e591f43",
   "metadata": {},
   "outputs": [
    {
     "name": "stdout",
     "output_type": "stream",
     "text": [
      "Valor teórico: 1.6449340668482264, aproximación: 1.64493306684777\n",
      "Error: 1.000000456441441e-06\n"
     ]
    }
   ],
   "source": [
    "import math\n",
    "res = math.pi ** 2 / 6\n",
    "res2 = 0\n",
    "for n in range(1, 1000000):\n",
    "    res2 += 1 / (n**2)\n",
    "\n",
    "print(f\"Valor teórico: {res}, aproximación: {res2}\")\n",
    "error = abs(res - res2)\n",
    "print(f\"Error: {error}\")"
   ]
  },
  {
   "cell_type": "markdown",
   "id": "f5090cfc",
   "metadata": {},
   "source": [
    "###Ejercicio 2### \n",
    "Ejemplo en Python -programación imperativa\n",
    "veamos un ejemolo sencillo en Python "
   ]
  },
  {
   "cell_type": "code",
   "execution_count": null,
   "id": "c1e72090",
   "metadata": {},
   "outputs": [
    {
     "name": "stdout",
     "output_type": "stream",
     "text": [
      "19\n"
     ]
    }
   ],
   "source": [
    "# Expresión 1\n",
    "resultado = 3 + 4 * 2 ** 2\n",
    "print(resultado)\n",
    "#¿Cuál crees que es el resultado?"
   ]
  },
  {
   "cell_type": "markdown",
   "id": "c584617f",
   "metadata": {},
   "source": [
    "Ejercicio #3 Evaluación de expresiones en Python\n",
    "Instrucciones: Analice las siguientes expresiones, anote las reducciones en un cuadernillo de Jupyter y compruebe el resultado en el lenguaje python"
   ]
  },
  {
   "cell_type": "markdown",
   "id": "c5adabc7",
   "metadata": {},
   "source": [
    "## Expresión 1 = (3 + 2) * 4"
   ]
  },
  {
   "cell_type": "code",
   "execution_count": null,
   "id": "c5a76dd7",
   "metadata": {},
   "outputs": [
    {
     "name": "stdout",
     "output_type": "stream",
     "text": [
      "20\n"
     ]
    }
   ],
   "source": [
    "#Expresión 1\n",
    "expr1 = (3 + 2) * 4\n",
    "print(expr1)\n",
    "#¿Cual es el resultado y porque?"
   ]
  },
  {
   "cell_type": "markdown",
   "id": "c576f1a6",
   "metadata": {},
   "source": [
    "- 1. Se suman 3 + 2 = 5  \n",
    "- 2. El resultado se multiplica por 5 * 4    \n",
    "- 3. El resultado es igual a 20  "
   ]
  },
  {
   "cell_type": "markdown",
   "id": "034f44ce",
   "metadata": {},
   "source": [
    "## Expresión 2 = (2 * 3 ** 2)"
   ]
  },
  {
   "cell_type": "code",
   "execution_count": null,
   "id": "834cac51",
   "metadata": {},
   "outputs": [
    {
     "name": "stdout",
     "output_type": "stream",
     "text": [
      "18\n"
     ]
    }
   ],
   "source": [
    "#Expresión 2\n",
    "expr2 = 2 * 3 ** 2\n",
    "print(expr2)"
   ]
  },
  {
   "cell_type": "markdown",
   "id": "433f5e67",
   "metadata": {},
   "source": [
    "- 1. El número 3 se eleva al cuadrado 3 ** 2 = 9\n",
    "- 2. El resultado de esa elevación se multiplica por dos 9 * 2 para dar así el resultado final = 18"
   ]
  },
  {
   "cell_type": "markdown",
   "id": "a193549c",
   "metadata": {},
   "source": [
    "## Expresión 3 = (10 // 3 + 2)"
   ]
  },
  {
   "cell_type": "code",
   "execution_count": 8,
   "id": "638c29f2",
   "metadata": {},
   "outputs": [
    {
     "name": "stdout",
     "output_type": "stream",
     "text": [
      "5\n"
     ]
    }
   ],
   "source": [
    "#Expresión 3\n",
    "expr3 = 10 // 3 + 2\n",
    "print(expr3)"
   ]
  },
  {
   "cell_type": "markdown",
   "id": "2f71c18e",
   "metadata": {},
   "source": [
    "- 1. Primero se realiza la división 10 / 3 pero al momento de que estamos usando el operador // regresa el numero mas cercano hacía abajo sacando como resultado 3\n",
    "- 2. Luego el resultado de la anterior operación se le suma 2 dando como resultado cinco 3 + 2 = 5"
   ]
  },
  {
   "cell_type": "markdown",
   "id": "f810bde0",
   "metadata": {},
   "source": [
    "## Expresión 4 = 17 % 5 * 2"
   ]
  },
  {
   "cell_type": "code",
   "execution_count": 9,
   "id": "7855da94",
   "metadata": {},
   "outputs": [
    {
     "name": "stdout",
     "output_type": "stream",
     "text": [
      "4\n"
     ]
    }
   ],
   "source": [
    "#Expresión 4\n",
    "expr4 = 17 % 5 * 2\n",
    "print(expr4)"
   ]
  },
  {
   "cell_type": "markdown",
   "id": "70224f32",
   "metadata": {},
   "source": [
    "- 1. Ya que ambos operadores tienen la misma prioridad % * el programa lee la expresión de izquierda a derecha, justamente como uno escribe el codigo\n",
    "- 2. Primero que nada se saca el residuo de 17 % 5 que es igual a 2\n",
    "- 3. Luego el resultado (2) se multiplica por (2) dando como resultado 2 * 2 = 4"
   ]
  },
  {
   "cell_type": "markdown",
   "id": "7a6c380b",
   "metadata": {},
   "source": [
    "## Expresión 5 = (-2 ** 2)"
   ]
  },
  {
   "cell_type": "code",
   "execution_count": null,
   "id": "63ab02ad",
   "metadata": {},
   "outputs": [
    {
     "name": "stdout",
     "output_type": "stream",
     "text": [
      "-4\n"
     ]
    }
   ],
   "source": [
    "#Expresión 5\n",
    "expr5 = -2 ** 2\n",
    "print(-2 ** 2)"
   ]
  },
  {
   "cell_type": "markdown",
   "id": "a5bc6d2f",
   "metadata": {},
   "source": [
    "- 1. Primero que nada se eleva la potencia a 2 ** 2 = 4\n",
    "- 2. Luego el resultado se le aplica el negativo dando como resultado el número = -4 "
   ]
  },
  {
   "cell_type": "markdown",
   "id": "a780cde9",
   "metadata": {},
   "source": [
    "## Expresión 6 =  (3 + 4 * 2 ** 2 // 3)"
   ]
  },
  {
   "cell_type": "code",
   "execution_count": 11,
   "id": "9ad3b1a3",
   "metadata": {},
   "outputs": [
    {
     "name": "stdout",
     "output_type": "stream",
     "text": [
      "8\n"
     ]
    }
   ],
   "source": [
    "#Expresión 6\n",
    "expr6 = 3 + 4 * 2 ** 2 // 3\n",
    "print(expr6)"
   ]
  },
  {
   "cell_type": "markdown",
   "id": "5c0f4fde",
   "metadata": {},
   "source": [
    "- 1. Primero que nada por prioridad hay que realizar la operación 2 ** 2 dando como resultado = 4\n",
    "- 2. Luego ese resultado hay que multiplicarlo por 4 dando como resultado = 16\n",
    "- 3. hay que sacar la división entera con tendencia hacía abajo 16 // 3 = 5\n",
    "- 4. Por ultimo hay que sumarle los 3 dando como resultado = 8"
   ]
  },
  {
   "cell_type": "markdown",
   "id": "c0ba9727",
   "metadata": {},
   "source": [
    "## Expresión 7 = (3 < 4 < 5)"
   ]
  },
  {
   "cell_type": "code",
   "execution_count": null,
   "id": "16a6eda9",
   "metadata": {},
   "outputs": [],
   "source": [
    "#Expresión 7\n",
    "expr7 = 3 < 4 < 5\n",
    "print(expr7)"
   ]
  },
  {
   "cell_type": "markdown",
   "id": "4f4b14ec",
   "metadata": {},
   "source": [
    "- 1.lo primero que hay que hacer es hacer de izquierda a derecha el 3 < 4 = True\n",
    "- 2.luego ese falso sigue siendo falso ya que se checa 4 < 5 = True"
   ]
  },
  {
   "cell_type": "markdown",
   "id": "021882a1",
   "metadata": {},
   "source": [
    "## Expresión 8 = (3 > 2) and (5 < 10) or False"
   ]
  },
  {
   "cell_type": "code",
   "execution_count": null,
   "id": "2d66b65f",
   "metadata": {},
   "outputs": [],
   "source": [
    "#Expresión 8\n",
    "expr8 = (3 > 2) and (5 < 10) or False\n",
    "expr8 = True and True or False\n",
    "expr8 = True or False\n",
    "\n",
    "print(expr8)"
   ]
  },
  {
   "cell_type": "markdown",
   "id": "35582841",
   "metadata": {},
   "source": [
    "- 1. Primero hay que realizar primero los parentesis (3 > 2) = true\n",
    "- 2. Luego el otro parentesis (5 < 10) = true\n",
    "- 3. Luego se compara el operador True y True dando como resultado = True\n",
    "- 4. Luego la expresión True or False dando como resultado final True"
   ]
  },
  {
   "cell_type": "markdown",
   "id": "50224a71",
   "metadata": {},
   "source": [
    "## Expresión 9 = (5 & 3 + 1)"
   ]
  },
  {
   "cell_type": "code",
   "execution_count": 12,
   "id": "45b12361",
   "metadata": {},
   "outputs": [
    {
     "name": "stdout",
     "output_type": "stream",
     "text": [
      "4\n"
     ]
    }
   ],
   "source": [
    "#Expresión 9\n",
    "expr9 = 5 & 3 + 1\n",
    "print(expr9)"
   ]
  },
  {
   "cell_type": "markdown",
   "id": "6ab87e5f",
   "metadata": {},
   "source": [
    "- 1. Primero hay que realizar la suma 3 + 1 dando como resultado = 4\n",
    "- 2. luego hay que nada hay que hacer la operación binaria 101 100 dando como resultado 100 que es igual a 4 como resultado final\n",
    "\n",
    "\n"
   ]
  },
  {
   "cell_type": "markdown",
   "id": "4a89f447",
   "metadata": {},
   "source": [
    "## Expresión 10 = (2 + 3) * 4 ** 2 // (5 % 3) and not False"
   ]
  },
  {
   "cell_type": "code",
   "execution_count": 14,
   "id": "84850809",
   "metadata": {},
   "outputs": [
    {
     "name": "stdout",
     "output_type": "stream",
     "text": [
      "True\n"
     ]
    }
   ],
   "source": [
    "expr10 = (2 + 3) * 4 ** 2 // (5 % 3) and not False\n",
    "expr10 = 5 * 4 ** 2 // 2 and not False\n",
    "expr10 = 5 * 16 // 2 and not False\n",
    "expr10 = 80 // 2 and not False\n",
    "expr10 = 40 and not False\n",
    "print(expr10)"
   ]
  },
  {
   "cell_type": "markdown",
   "id": "8e26a61d",
   "metadata": {},
   "source": [
    "- 1. Se realizan primero que nada los parentesis (2 + 3) = 5 y (5 % 3) = 2\n",
    "- 2. Luego se realiza la exponencial 4 ** 2 dando como resultado = 16\n",
    "- 3. Luego se realiza la multiplicación 16 * 5 dando como resultado 80\n",
    "- 4. Luego se realiza la división entera con tendencia para abajo dando como resultado = 40\n",
    "- 5. luego se hace la ultima comparación que da como resultado True"
   ]
  },
  {
   "cell_type": "markdown",
   "id": "840b9fa4",
   "metadata": {},
   "source": [
    "## Expresión 11 = ((65 & 66) > 70 ) And not (65 ^ 66) == 0 "
   ]
  },
  {
   "cell_type": "code",
   "execution_count": 17,
   "id": "82778e5a",
   "metadata": {},
   "outputs": [
    {
     "name": "stdout",
     "output_type": "stream",
     "text": [
      "False\n"
     ]
    }
   ],
   "source": [
    "#Expresión 11 = ((65 & 66) > 70 ) And not (65 ^ 66) == 0 \n",
    "expr11 = ((65 & 66) > 70 ) and not (65 ^ 66) == 0 \n",
    "expr11 = (64 > 70) and not 3\n",
    "expr11 = False and not 3\n",
    "print(expr11)"
   ]
  },
  {
   "cell_type": "markdown",
   "id": "b7afc12c",
   "metadata": {},
   "source": [
    "- 1. Primero que nada hay que hacer los parentesis (65 & 66) 1000001 1000010 = 1000000 dandonos 64\n",
    "- 2. Luego hay que (65 ^ 66) 1000001 1000010 = 0000011 3\n",
    "- 3. Luego la operación 64 > 70 y esta da False\n",
    "- 4. luego al hacer la operación da como resultado Falso\n"
   ]
  },
  {
   "cell_type": "markdown",
   "id": "7b68e69a",
   "metadata": {},
   "source": [
    "# ------------EXPRESIONES JAVA---------------"
   ]
  },
  {
   "cell_type": "markdown",
   "id": "abb8b388",
   "metadata": {},
   "source": [
    "## Expresion 1 = System.out.println(x++)"
   ]
  },
  {
   "cell_type": "code",
   "execution_count": null,
   "id": "d1e7e5ee",
   "metadata": {},
   "outputs": [],
   "source": [
    "#Expresion 1 con java\n",
    "#Los valores son determinados\n",
    "int x= 10;\n",
    "int b= 10;\n",
    "System.out.println(x++);"
   ]
  },
  {
   "cell_type": "markdown",
   "id": "278c7857",
   "metadata": {},
   "source": [
    "- 1. Primero que nada al tener establecidas lo que son las variables x y b ya tenemos valores predeterminados.\n",
    "- 2. Luego lo que sucede es que el print imprime el valor mas cercano a la izquierda que en este caso es x\n",
    "- 3. Imprime primero el 10 y luego le suma 1 por lo que no se muestra el valor 11"
   ]
  },
  {
   "cell_type": "markdown",
   "id": "e768f308",
   "metadata": {},
   "source": [
    "# Expresion 2 = System.out.println(++x)"
   ]
  },
  {
   "cell_type": "code",
   "execution_count": null,
   "id": "efe7b07d",
   "metadata": {},
   "outputs": [],
   "source": [
    "#Expresion 1 con java\n",
    "#Los valores son determinados\n",
    "int x= 10;\n",
    "int b= 10;\n",
    "System.out.println(++x);"
   ]
  },
  {
   "cell_type": "markdown",
   "id": "352befce",
   "metadata": {},
   "source": [
    "- 1. Lo que sucede en esta ocación primero se realiza la suma del print y luego imprime el valor.\n",
    "\n",
    "- 2. Luego imprime el valor de la variable x siendo 11"
   ]
  },
  {
   "cell_type": "markdown",
   "id": "663cd4d7",
   "metadata": {},
   "source": [
    "# Expresión 3 = b++ * -3 == -3 % x++"
   ]
  },
  {
   "cell_type": "code",
   "execution_count": null,
   "id": "574b4f0f",
   "metadata": {},
   "outputs": [],
   "source": [
    "#Expresion 3 con java\n",
    "#Los valores son determinados\n",
    "int x= 10;\n",
    "int b= 10;\n",
    "b++ * -3 == -3 % x++\n",
    "11 * -3 == -3 % 11\n",
    "-33 == -3\n",
    "false"
   ]
  },
  {
   "cell_type": "markdown",
   "id": "d817d210",
   "metadata": {},
   "source": [
    "- 1. Al dividir la expresion en partes podemos llegar al resultado.\n",
    "- 2. Se realizan las sumas ++ a los valores b++ y x++\n",
    "- 3. Luego se realizan las multiplicaciones de 11 * -3 y la division de residuo -3 % 11\n",
    "- 4. luego se realiza la comparacion -33 == -3 que nos dara falso ya que no son iguales\n",
    "- 5. Luego tenemos el resultado = false"
   ]
  },
  {
   "cell_type": "markdown",
   "id": "dbd841de",
   "metadata": {},
   "source": [
    "# Ejercicio 4 = 30 - 10 /= % ++b + 30 % 7 * 2"
   ]
  },
  {
   "cell_type": "code",
   "execution_count": null,
   "id": "feeffef7",
   "metadata": {},
   "outputs": [],
   "source": [
    "#Expresion 4 con java\n",
    "#Los valores son determinados\n",
    "int x = 10;\n",
    "int b = 10;\n",
    "double j = 30-10;\n",
    "j/= ++b + (30%14);\n",
    "System.out.println(j)"
   ]
  },
  {
   "cell_type": "markdown",
   "id": "bc9fb53d",
   "metadata": {},
   "source": [
    "- 1. Se genera una variable del lado derecho del /= para poder almacenar los valores 30-20.\n",
    "- 2. luego se aplica la suma a si mismo el valor de b dando como resultado 11.\n",
    "- 3. Luego se realiza la division de residuo 30 % 14 que da = 2.\n",
    "- 4. Luego se realiza la suma de 11 y 2 que son los resultados de los dos puntos anteriores dando como resultado 13\n",
    "- 5. Luego a J se realiza el operador /= con el resultado 13\n",
    "20 "
   ]
  },
  {
   "cell_type": "markdown",
   "id": "0efbbd52",
   "metadata": {},
   "source": [
    "# Ejercicio 5 =  x = -50 * x++ * 80 % b / 4 *= 8"
   ]
  },
  {
   "cell_type": "code",
   "execution_count": null,
   "id": "bf43ec03",
   "metadata": {},
   "outputs": [],
   "source": [
    "#Expresion 5 con java\n",
    "#Los valores son determinados\n",
    "int x = 10;\n",
    "int b = 10;\n",
    "x = -50 * x++ * 80 % b / 4 *= 8\n",
    "x = -50 * 11 * 80 % b / 4 *= 8\n",
    "x = -44000 % b / 4 *= 8\n",
    "x = 0 / 4 *= 8\n",
    "b = 0\n",
    "x = b *= 8\n"
   ]
  },
  {
   "cell_type": "markdown",
   "id": "fb9ba57e",
   "metadata": {},
   "source": [
    "- 1. Primero que nada se suman en si misma en los valores x++ que nos da 11\n",
    "- 2. Luego se multiplican los valores -50 * 11 * 80 dando como resultado -44000.\n",
    "- 3. Luego se aplica la division de residuo utilizando el valor de el paso anterior con el valor de b que es 10 dando como resultado 0.\n",
    "- 4. Luego el resultado 0 se divide entre 4 dando 0 como resultado.\n",
    "- 5. Luego se agrega una variable para el valor de asignacion y da como resultado 0\n",
    "- 5. El valor final es 0 ya que x toma el valor de b."
   ]
  },
  {
   "cell_type": "markdown",
   "id": "0525cb0a",
   "metadata": {},
   "source": [
    "# Expresion 6 = b*= x++ - 8 +3 -5 / 4 % - 3 + 8"
   ]
  },
  {
   "cell_type": "code",
   "execution_count": null,
   "id": "1db9e2b3",
   "metadata": {},
   "outputs": [],
   "source": [
    "#Expresion 6 con java\n",
    "#Los valores son determinados\n",
    "int x = 10;\n",
    "int b = 10;\n",
    "b *= x++ - 8 + 3 - 5 / 4 % - 3 + 8\n",
    "b *= 10 - 8 + 3 - 5 / 4 % - 3 + 8\n",
    "b *= 10 - 8 + 3 - 1 % - 3 + 8\n",
    "j = 1 % -3\n",
    "j= 1\n",
    "b *= 10 - 8 + 3 - j + 8\n",
    "b *= 2 + 3 - j + 8\n",
    "b *= 5 - j + 8\n",
    "b *= 4 + 8\n",
    "b *= 12\n",
    "b = 120"
   ]
  },
  {
   "cell_type": "markdown",
   "id": "2b98092e",
   "metadata": {},
   "source": [
    "- 1. Primero ser realiza la division 5 / 4 que da 1\n",
    "- 2. Luego en una variable nueva realiza la operacion 1 % -3 dando como resultado 1\n",
    "- 3. Luego se realizan para luego ir haciendo las operaciones de suma y resta de izquierda a derecha dando como resultado final 12\n",
    "- 4. Luego se multiplica el valor de b que es 10 por el valor de 12 de el paso anterior\n",
    "- 5. Tenemos con resultado final 120"
   ]
  },
  {
   "cell_type": "markdown",
   "id": "65e021a2",
   "metadata": {},
   "source": [
    "# Ejercicio 7 =  x = b * 50 / 30 * ++x + 80"
   ]
  },
  {
   "cell_type": "code",
   "execution_count": null,
   "id": "71a16f8f",
   "metadata": {},
   "outputs": [],
   "source": [
    "#Expresion 7 con java\n",
    "#Los valores son determinados\n",
    "int x = 10;\n",
    "int b = 10;\n",
    "int x = b * 50 / 30 * ++x + 80;\n",
    "int x = b * 50 / 30 * 11 + 80;\n",
    "int x = 500 / 30 * 11 + 80;\n",
    "int x = 16 * 11 + 80;\n",
    "int x = 176 + 80;\n",
    "int x = 256;\n"
   ]
  },
  {
   "cell_type": "markdown",
   "id": "62f740d4",
   "metadata": {},
   "source": [
    "- 1. Primero que nada realizamos la suma a la misma variable del siguiente caso ++x\n",
    "- 2. Luego multiplicar b que vale 10 por 50 y nos da 500\n",
    "- 3. Luego dividir el resultado anterior 500 entre 30 que da como resultado 16\n",
    "- 4. Luego hay que multiplicar 16 por 11 que da como resultado 176\n",
    "- 5. luego hay que sumarle el resultado anterior 80 quedando el resultado final de 256"
   ]
  },
  {
   "cell_type": "markdown",
   "id": "f42e8bed",
   "metadata": {},
   "source": [
    "# Ejercicio 8 = ++x % 20.2 == -x /= b % = --x"
   ]
  },
  {
   "cell_type": "code",
   "execution_count": null,
   "id": "5961b8ed",
   "metadata": {},
   "outputs": [],
   "source": [
    "#Expresion 8 con java\n",
    "#Los valores son determinados\n",
    "int x = 10;\n",
    "int b = 10;\n",
    "j= ++x % 20.2 == -x /= b % = --x\n",
    "j= 11 % 20.2 == -x /= b % = 10\n",
    "j = 11\n",
    "z = -x /= 1\n",
    "z = -10 / 1\n",
    "j = 11 == z\n",
    "j = false"
   ]
  },
  {
   "cell_type": "markdown",
   "id": "771d3bb6",
   "metadata": {},
   "source": [
    "- 1. Primero que nada hay que sumarle su respectivo numero a ++x\n",
    "- 2. Luego se coloca el valor del residuo de la division de 11 % 20.2 que da 11\n",
    "- 3. Luego el valor de -x se divide entre 1 \n",
    "- 4. Luego se realiza la comparacion y da como resultado False"
   ]
  },
  {
   "cell_type": "markdown",
   "id": "45bb7e1f",
   "metadata": {},
   "source": [
    "# //Expresión #9 1 *= b++ * b-- / 3 % ++b *= 10 + 1;"
   ]
  },
  {
   "cell_type": "code",
   "execution_count": null,
   "id": "32cf2e3c",
   "metadata": {},
   "outputs": [],
   "source": [
    "#Expresion 9 con java\n",
    "#Los valores son determinados\n",
    "int x = 10;\n",
    "int b = 10;\n",
    "1 *= b++ * b-- / 3 % ++b *= 10 + 1;\n"
   ]
  },
  {
   "cell_type": "markdown",
   "id": "ae2995d6",
   "metadata": {},
   "source": [
    "- 1. Primero tomamos b++, que devuelve 10 y luego incrementa b a 11.\n",
    "- 2. Después tomamos b--, que devuelve 11 y luego decrementa b de nuevo a 10.\n",
    "- 3. Multiplicamos ambos valores: 10 * 11 = 110.\n",
    "- 4. Dividimos 110 / 3 = 36 (división entera).\n",
    "- 5. Ahora viene ++b, que incrementa b de 10 a 11 y devuelve 11.\n",
    "- 6. Se aplica la operación compuesta: ++b *= 10 + 1 → primero 10 + 1 = 11, luego ++b = 12, finalmente 12 *= 11 = 132. Ahora b = 132.\n",
    "- 7. Evaluamos el módulo: 36 % 132 = 36.\n",
    "- 8. Finalmente, aplicamos la asignación: res *= 36 → res = 36"
   ]
  },
  {
   "cell_type": "markdown",
   "id": "9c70adbe",
   "metadata": {},
   "source": [
    "# Ejercicio 10: -10 * -0 *= -10 *= x++ + x += x * x ;"
   ]
  },
  {
   "cell_type": "code",
   "execution_count": null,
   "id": "6f1125e1",
   "metadata": {},
   "outputs": [],
   "source": [
    "#Expresion 9 con java\n",
    "#Los valores son determinados\n",
    "int x = 10;\n",
    "int b = 10;\n",
    "-10 * -0 *= -10 *= x++ + x += x * x ;\n",
    "\n",
    "b = -10 * -0 * (-10 * (x++ + (x += x * x)));"
   ]
  },
  {
   "cell_type": "markdown",
   "id": "05de1f9d",
   "metadata": {},
   "source": [
    "- 1. Primero que nada resolvemos la parte x * x, que con x = 10 nos da 100.\n",
    "- 2. Luego aplicamos x += x * x, es decir x = 10 + 100 = 110.\n",
    "- 3. Después evaluamos x++. Como es post-incremento, devuelve 110 y luego x pasa a valer 111.\n",
    "- 4. Sumamos los dos resultados: 110 (de x++) + 110 (de x += x * x) = 220.\n",
    "- 5. Ahora multiplicamos -10 * -0 = 0.\n",
    "- 6. Después -10 * 220 = -2200.\n",
    "- 7. Finalmente 0 * -2200 = 0."
   ]
  },
  {
   "cell_type": "markdown",
   "id": "0323a07d",
   "metadata": {},
   "source": [
    "# Expresion 11: a * b == b++ + b-- + --b + x++ + x--;"
   ]
  },
  {
   "cell_type": "code",
   "execution_count": null,
   "id": "821bb032",
   "metadata": {},
   "outputs": [],
   "source": [
    "# Expresion 11: \n",
    "# Expresion 9 con java\n",
    "# Los valores son determinados\n",
    "int x = 10;\n",
    "int b = 10;\n",
    "a * b == b++ + b-- + --b + x++ + x--;"
   ]
  },
  {
   "cell_type": "markdown",
   "id": "b5beec92",
   "metadata": {},
   "source": [
    "- 1. Primero que nada resolvemos b++, que devuelve 10 y después b pasa a valer 11.\n",
    "- 2. Luego resolvemos b--, que devuelve 11 y después b vuelve a valer 10.\n",
    "- 3. Después resolvemos --b, que primero resta 1 quedando en 9 y devuelve 9.\n",
    "- 4. Ahora pasamos a x++, que devuelve 10 y después x pasa a valer 11.\n",
    "- 5. Luego resolvemos x--, que devuelve 11 y después x regresa a valer 10.\n",
    "- 6. Sumamos todos los resultados anteriores: 10 + 11 + 9 + 10 + 11 = 51.\n",
    "- 7. Con esto la igualdad queda como: a * 9 = 51.\n",
    "- 8. Finalmente, al despejar a tenemos que 51 dividido entre 9 es igual a 5.66…, es decir, aproximadamente 6."
   ]
  }
 ],
 "metadata": {
  "kernelspec": {
   "display_name": ".venv",
   "language": "python",
   "name": "python3"
  },
  "language_info": {
   "codemirror_mode": {
    "name": "ipython",
    "version": 3
   },
   "file_extension": ".py",
   "mimetype": "text/x-python",
   "name": "python",
   "nbconvert_exporter": "python",
   "pygments_lexer": "ipython3",
   "version": "3.13.7"
  }
 },
 "nbformat": 4,
 "nbformat_minor": 5
}

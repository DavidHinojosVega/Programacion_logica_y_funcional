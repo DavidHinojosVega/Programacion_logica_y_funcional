{
 "cells": [
  {
   "cell_type": "markdown",
   "id": "b6fe2eea",
   "metadata": {},
   "source": [
    "# Ejercicio 1\n",
    "Ejercicio 1 de evaluación de expresiones en Python\n",
    "\n",
    "$\\frac {\\pi ^ 2}{6} = .\\sum_{n=1}^{\\infty} \\frac{1}{n ^ 2} $"
   ]
  },
  {
   "cell_type": "code",
   "execution_count": 2,
   "id": "7e591f43",
   "metadata": {},
   "outputs": [
    {
     "name": "stdout",
     "output_type": "stream",
     "text": [
      "Valor teórico: 1.6449340668482264, aproximación: 1.64493306684777\n",
      "Error: 1.000000456441441e-06\n"
     ]
    }
   ],
   "source": [
    "import math\n",
    "res = math.pi ** 2 / 6\n",
    "res2 = 0\n",
    "for n in range(1, 1000000):\n",
    "    res2 += 1 / (n**2)\n",
    "\n",
    "print(f\"Valor teórico: {res}, aproximación: {res2}\")\n",
    "error = abs(res - res2)\n",
    "print(f\"Error: {error}\")"
   ]
  },
  {
   "cell_type": "markdown",
   "id": "f5090cfc",
   "metadata": {},
   "source": [
    "###Ejercicio 2### \n",
    "Ejemplo en Python -programación imperativa\n",
    "veamos un ejemolo sencillo en Python "
   ]
  },
  {
   "cell_type": "code",
   "execution_count": 3,
   "id": "c1e72090",
   "metadata": {},
   "outputs": [
    {
     "name": "stdout",
     "output_type": "stream",
     "text": [
      "19\n"
     ]
    }
   ],
   "source": [
    "# Expresión\n",
    "resultado = 3 + 4 * 2 ** 2\n",
    "print(resultado)\n",
    "#¿Cuál crees que es el resultado?"
   ]
  }
 ],
 "metadata": {
  "kernelspec": {
   "display_name": ".venv",
   "language": "python",
   "name": "python3"
  },
  "language_info": {
   "codemirror_mode": {
    "name": "ipython",
    "version": 3
   },
   "file_extension": ".py",
   "mimetype": "text/x-python",
   "name": "python",
   "nbconvert_exporter": "python",
   "pygments_lexer": "ipython3",
   "version": "3.13.7"
  }
 },
 "nbformat": 4,
 "nbformat_minor": 5
}

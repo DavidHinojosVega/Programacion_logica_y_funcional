{
 "cells": [
  {
   "cell_type": "markdown",
   "id": "b6fe2eea",
   "metadata": {},
   "source": [
    "# Ejercicio 1\n",
    "Ejercicio 1 de evaluación de expresiones en Python\n",
    "\n",
    "$\\frac {\\pi ^ 2}{6} = .\\sum_{n=1}^{\\infty} \\frac{1}{n ^ 2} $"
   ]
  },
  {
   "cell_type": "code",
   "execution_count": 2,
   "id": "7e591f43",
   "metadata": {},
   "outputs": [
    {
     "name": "stdout",
     "output_type": "stream",
     "text": [
      "Valor teórico: 1.6449340668482264, aproximación: 1.64493306684777\n",
      "Error: 1.000000456441441e-06\n"
     ]
    }
   ],
   "source": [
    "import math\n",
    "res = math.pi ** 2 / 6\n",
    "res2 = 0\n",
    "for n in range(1, 1000000):\n",
    "    res2 += 1 / (n**2)\n",
    "\n",
    "print(f\"Valor teórico: {res}, aproximación: {res2}\")\n",
    "error = abs(res - res2)\n",
    "print(f\"Error: {error}\")"
   ]
  },
  {
   "cell_type": "markdown",
   "id": "f5090cfc",
   "metadata": {},
   "source": [
    "###Ejercicio 2### \n",
    "Ejemplo en Python -programación imperativa\n",
    "veamos un ejemolo sencillo en Python "
   ]
  },
  {
   "cell_type": "code",
   "execution_count": null,
   "id": "c1e72090",
   "metadata": {},
   "outputs": [
    {
     "name": "stdout",
     "output_type": "stream",
     "text": [
      "19\n"
     ]
    }
   ],
   "source": [
    "# Expresión 1\n",
    "resultado = 3 + 4 * 2 ** 2\n",
    "print(resultado)\n",
    "#¿Cuál crees que es el resultado?"
   ]
  },
  {
   "cell_type": "markdown",
   "id": "c584617f",
   "metadata": {},
   "source": [
    "Ejercicio #3 Evaluación de expresiones en Python\n",
    "Instrucciones: Analice las siguientes expresiones, anote las reducciones en un cuadernillo de Jupyter y compruebe el resultado en el lenguaje python"
   ]
  },
  {
   "cell_type": "markdown",
   "id": "c5adabc7",
   "metadata": {},
   "source": [
    "## Expresión 1 = (3 + 2) * 4"
   ]
  },
  {
   "cell_type": "code",
   "execution_count": null,
   "id": "c5a76dd7",
   "metadata": {},
   "outputs": [
    {
     "name": "stdout",
     "output_type": "stream",
     "text": [
      "20\n"
     ]
    }
   ],
   "source": [
    "#Expresión 1\n",
    "expr1 = (3 + 2) * 4\n",
    "print(expr1)\n",
    "#¿Cual es el resultado y porque?"
   ]
  },
  {
   "cell_type": "markdown",
   "id": "c576f1a6",
   "metadata": {},
   "source": [
    "- 1. Se suman 3 + 2 = 5  \n",
    "- 2. El resultado se multiplica por 5 * 4    \n",
    "- 3. El resultado es igual a 20  "
   ]
  },
  {
   "cell_type": "markdown",
   "id": "034f44ce",
   "metadata": {},
   "source": [
    "## Expresión 2 = (2 * 3 ** 2)"
   ]
  },
  {
   "cell_type": "code",
   "execution_count": null,
   "id": "834cac51",
   "metadata": {},
   "outputs": [
    {
     "name": "stdout",
     "output_type": "stream",
     "text": [
      "18\n"
     ]
    }
   ],
   "source": [
    "#Expresión 2\n",
    "expr2 = 2 * 3 ** 2\n",
    "print(expr2)"
   ]
  },
  {
   "cell_type": "markdown",
   "id": "433f5e67",
   "metadata": {},
   "source": [
    "- 1. El número 3 se eleva al cuadrado 3 ** 2 = 9\n",
    "- 2. El resultado de esa elevación se multiplica por dos 9 * 2 para dar así el resultado final = 18"
   ]
  },
  {
   "cell_type": "markdown",
   "id": "a193549c",
   "metadata": {},
   "source": [
    "## Expresión 3 = (10 // 3 + 2)"
   ]
  },
  {
   "cell_type": "code",
   "execution_count": 8,
   "id": "638c29f2",
   "metadata": {},
   "outputs": [
    {
     "name": "stdout",
     "output_type": "stream",
     "text": [
      "5\n"
     ]
    }
   ],
   "source": [
    "#Expresión 3\n",
    "expr3 = 10 // 3 + 2\n",
    "print(expr3)"
   ]
  },
  {
   "cell_type": "markdown",
   "id": "2f71c18e",
   "metadata": {},
   "source": [
    "- 1. Primero se realiza la división 10 / 3 pero al momento de que estamos usando el operador // regresa el numero mas cercano hacía abajo sacando como resultado 3\n",
    "- 2. Luego el resultado de la anterior operación se le suma 2 dando como resultado cinco 3 + 2 = 5"
   ]
  },
  {
   "cell_type": "markdown",
   "id": "f810bde0",
   "metadata": {},
   "source": [
    "## Expresión 4 = 17 % 5 * 2"
   ]
  },
  {
   "cell_type": "code",
   "execution_count": 9,
   "id": "7855da94",
   "metadata": {},
   "outputs": [
    {
     "name": "stdout",
     "output_type": "stream",
     "text": [
      "4\n"
     ]
    }
   ],
   "source": [
    "#Expresión 4\n",
    "expr4 = 17 % 5 * 2\n",
    "print(expr4)"
   ]
  },
  {
   "cell_type": "markdown",
   "id": "70224f32",
   "metadata": {},
   "source": [
    "- 1. Ya que ambos operadores tienen la misma prioridad % * el programa lee la expresión de izquierda a derecha, justamente como uno escribe el codigo\n",
    "- 2. Primero que nada se saca el residuo de 17 % 5 que es igual a 2\n",
    "- 3. Luego el resultado (2) se multiplica por (2) dando como resultado 2 * 2 = 4"
   ]
  },
  {
   "cell_type": "markdown",
   "id": "7a6c380b",
   "metadata": {},
   "source": [
    "## Expresión 5 = (-2 ** 2)"
   ]
  },
  {
   "cell_type": "code",
   "execution_count": null,
   "id": "63ab02ad",
   "metadata": {},
   "outputs": [
    {
     "name": "stdout",
     "output_type": "stream",
     "text": [
      "-4\n"
     ]
    }
   ],
   "source": [
    "#Expresión 5\n",
    "expr5 = -2 ** 2\n",
    "print(-2 ** 2)"
   ]
  },
  {
   "cell_type": "markdown",
   "id": "a5bc6d2f",
   "metadata": {},
   "source": [
    "- 1. Primero que nada se eleva la potencia a 2 ** 2 = 4\n",
    "- 2. Luego el resultado se le aplica el negativo dando como resultado el número = -4 "
   ]
  },
  {
   "cell_type": "markdown",
   "id": "a780cde9",
   "metadata": {},
   "source": [
    "## Expresión 6 =  (3 + 4 * 2 ** 2 // 3)"
   ]
  },
  {
   "cell_type": "code",
   "execution_count": 11,
   "id": "9ad3b1a3",
   "metadata": {},
   "outputs": [
    {
     "name": "stdout",
     "output_type": "stream",
     "text": [
      "8\n"
     ]
    }
   ],
   "source": [
    "#Expresión 6\n",
    "expr6 = 3 + 4 * 2 ** 2 // 3\n",
    "print(expr6)"
   ]
  },
  {
   "cell_type": "markdown",
   "id": "5c0f4fde",
   "metadata": {},
   "source": [
    "- 1. Primero que nada por prioridad hay que realizar la operación 2 ** 2 dando como resultado = 4\n",
    "- 2. Luego ese resultado hay que multiplicarlo por 4 dando como resultado = 16\n",
    "- 3. hay que sacar la división entera con tendencia hacía abajo 16 // 3 = 5\n",
    "- 4. Por ultimo hay que sumarle los 3 dando como resultado = 8"
   ]
  },
  {
   "cell_type": "markdown",
   "id": "c0ba9727",
   "metadata": {},
   "source": [
    "## Expresión 7 = (3 < 4 < 5)"
   ]
  },
  {
   "cell_type": "code",
   "execution_count": null,
   "id": "16a6eda9",
   "metadata": {},
   "outputs": [],
   "source": [
    "#Expresión 7\n",
    "expr7 = 3 < 4 < 5\n",
    "print(expr7)"
   ]
  },
  {
   "cell_type": "markdown",
   "id": "4f4b14ec",
   "metadata": {},
   "source": [
    "- 1.lo primero que hay que hacer es hacer de izquierda a derecha el 3 < 4 = True\n",
    "- 2.luego ese falso sigue siendo falso ya que se checa 4 < 5 = True"
   ]
  },
  {
   "cell_type": "markdown",
   "id": "021882a1",
   "metadata": {},
   "source": [
    "## Expresión 8 = (3 > 2) and (5 < 10) or False"
   ]
  },
  {
   "cell_type": "code",
   "execution_count": null,
   "id": "2d66b65f",
   "metadata": {},
   "outputs": [],
   "source": [
    "#Expresión 8\n",
    "expr8 = (3 > 2) and (5 < 10) or False\n",
    "expr8 = True and True or False\n",
    "expr8 = True or False\n",
    "\n",
    "print(expr8)"
   ]
  },
  {
   "cell_type": "markdown",
   "id": "35582841",
   "metadata": {},
   "source": [
    "- 1. Primero hay que realizar primero los parentesis (3 > 2) = true\n",
    "- 2. Luego el otro parentesis (5 < 10) = true\n",
    "- 3. Luego se compara el operador True y True dando como resultado = True\n",
    "- 4. Luego la expresión True or False dando como resultado final True"
   ]
  },
  {
   "cell_type": "markdown",
   "id": "50224a71",
   "metadata": {},
   "source": [
    "## Expresión 9 = (5 & 3 + 1)"
   ]
  },
  {
   "cell_type": "code",
   "execution_count": 12,
   "id": "45b12361",
   "metadata": {},
   "outputs": [
    {
     "name": "stdout",
     "output_type": "stream",
     "text": [
      "4\n"
     ]
    }
   ],
   "source": [
    "#Expresión 9\n",
    "expr9 = 5 & 3 + 1\n",
    "print(expr9)"
   ]
  },
  {
   "cell_type": "markdown",
   "id": "6ab87e5f",
   "metadata": {},
   "source": [
    "- 1. Primero hay que realizar la suma 3 + 1 dando como resultado = 4\n",
    "- 2. luego hay que nada hay que hacer la operación binaria 101 100 dando como resultado 100 que es igual a 4 como resultado final\n",
    "\n",
    "\n"
   ]
  },
  {
   "cell_type": "markdown",
   "id": "4a89f447",
   "metadata": {},
   "source": [
    "## Expresión 10 = (2 + 3) * 4 ** 2 // (5 % 3) and not False"
   ]
  },
  {
   "cell_type": "code",
   "execution_count": 14,
   "id": "84850809",
   "metadata": {},
   "outputs": [
    {
     "name": "stdout",
     "output_type": "stream",
     "text": [
      "True\n"
     ]
    }
   ],
   "source": [
    "expr10 = (2 + 3) * 4 ** 2 // (5 % 3) and not False\n",
    "expr10 = 5 * 4 ** 2 // 2 and not False\n",
    "expr10 = 5 * 16 // 2 and not False\n",
    "expr10 = 80 // 2 and not False\n",
    "expr10 = 40 and not False\n",
    "print(expr10)"
   ]
  },
  {
   "cell_type": "markdown",
   "id": "8e26a61d",
   "metadata": {},
   "source": [
    "- 1. Se realizan primero que nada los parentesis (2 + 3) = 5 y (5 % 3) = 2\n",
    "- 2. Luego se realiza la exponencial 4 ** 2 dando como resultado = 16\n",
    "- 3. Luego se realiza la multiplicación 16 * 5 dando como resultado 80\n",
    "- 4. Luego se realiza la división entera con tendencia para abajo dando como resultado = 40\n",
    "- 5. luego se hace la ultima comparación que da como resultado True"
   ]
  },
  {
   "cell_type": "markdown",
   "id": "840b9fa4",
   "metadata": {},
   "source": [
    "## Expresión 11 = ((65 & 66) > 70 ) And not (65 ^ 66) == 0 "
   ]
  },
  {
   "cell_type": "code",
   "execution_count": 17,
   "id": "82778e5a",
   "metadata": {},
   "outputs": [
    {
     "name": "stdout",
     "output_type": "stream",
     "text": [
      "False\n"
     ]
    }
   ],
   "source": [
    "#Expresión 11 = ((65 & 66) > 70 ) And not (65 ^ 66) == 0 \n",
    "expr11 = ((65 & 66) > 70 ) and not (65 ^ 66) == 0 \n",
    "expr11 = (64 > 70) and not 3\n",
    "expr11 = False and not 3\n",
    "print(expr11)"
   ]
  },
  {
   "cell_type": "markdown",
   "id": "b7afc12c",
   "metadata": {},
   "source": [
    "- 1. Primero que nada hay que hacer los parentesis (65 & 66) 1000001 1000010 = 1000000 dandonos 64\n",
    "- 2. Luego hay que (65 ^ 66) 1000001 1000010 = 0000011 3\n",
    "- 3. Luego la operación 64 > 70 y esta da False\n",
    "- 4. luego al hacer la operación da como resultado Falso\n"
   ]
  },
  {
   "cell_type": "markdown",
   "id": "7b68e69a",
   "metadata": {},
   "source": [
    "Expresón 12 ="
   ]
  }
 ],
 "metadata": {
  "kernelspec": {
   "display_name": ".venv",
   "language": "python",
   "name": "python3"
  },
  "language_info": {
   "codemirror_mode": {
    "name": "ipython",
    "version": 3
   },
   "file_extension": ".py",
   "mimetype": "text/x-python",
   "name": "python",
   "nbconvert_exporter": "python",
   "pygments_lexer": "ipython3",
   "version": "3.13.7"
  }
 },
 "nbformat": 4,
 "nbformat_minor": 5
}
